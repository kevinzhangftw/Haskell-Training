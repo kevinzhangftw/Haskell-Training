{
 "cells": [
  {
   "cell_type": "code",
   "execution_count": 1,
   "metadata": {
    "collapsed": true
   },
   "outputs": [],
   "source": [
    "snoc :: a -> [a] -> [a]\n",
    "snoc x [] = [x]\n",
    "snoc x (y:ys) = y:snoc x ys \n"
   ]
  },
  {
   "cell_type": "code",
   "execution_count": 2,
   "metadata": {},
   "outputs": [
    {
     "data": {
      "text/plain": [
       "[1,2,3,5]"
      ]
     },
     "metadata": {},
     "output_type": "display_data"
    }
   ],
   "source": [
    "snoc 5 [1,2,3]"
   ]
  },
  {
   "cell_type": "code",
   "execution_count": 3,
   "metadata": {
    "collapsed": true
   },
   "outputs": [],
   "source": [
    "myappend :: [a] -> [a] -> [a]\n",
    "myappend [] []     = []\n",
    "myappend [] lst2   = lst2\n",
    "myappend lst1 []   = lst1\n",
    "myappend lst1 (x:xs)= myappend (snoc x lst1) xs"
   ]
  },
  {
   "cell_type": "code",
   "execution_count": 4,
   "metadata": {},
   "outputs": [
    {
     "data": {
      "text/plain": [
       "[1,2,3,10,4,5,6]"
      ]
     },
     "metadata": {},
     "output_type": "display_data"
    }
   ],
   "source": [
    "myappend [1,2,3,10] [4,5,6]"
   ]
  },
  {
   "cell_type": "code",
   "execution_count": 5,
   "metadata": {
    "collapsed": true
   },
   "outputs": [],
   "source": [
    "myreverse :: [a] -> [a]\n",
    "myreverse [] = []\n",
    "myreverse (x:xs) = snoc x (myreverse xs)"
   ]
  },
  {
   "cell_type": "code",
   "execution_count": 6,
   "metadata": {},
   "outputs": [
    {
     "data": {
      "text/plain": [
       "[10,9,8,7,6,5,4,3,2,1]"
      ]
     },
     "metadata": {},
     "output_type": "display_data"
    }
   ],
   "source": [
    "myreverse [1,2,3,4,5,6,7,8,9,10]"
   ]
  },
  {
   "cell_type": "code",
   "execution_count": 7,
   "metadata": {
    "collapsed": true
   },
   "outputs": [],
   "source": [
    "--from http://www.cs.sfu.ca/CourseCentral/383/tjd/haskell_functions_lhs.html\n",
    "smallest_divisor :: Int -> Int\n",
    "smallest_divisor n\n",
    "    | n < 0     = error \"n must be >= 0\"\n",
    "    | n == 0    = 0\n",
    "    | n == 1    = 1\n",
    "    | otherwise = head (dropWhile (\\x -> n `mod` x /= 0) [2..n])\n",
    "\n",
    "--from http://www.cs.sfu.ca/CourseCentral/383/tjd/haskell_functions_lhs.html\n",
    "is_prime :: Int -> Bool\n",
    "is_prime n | n < 2     = False\n",
    "           | otherwise = (smallest_divisor n) == n\n",
    "           \n",
    "--from http://www.cs.sfu.ca/CourseCentral/383/tjd/haskell_functions_lhs.html\n",
    "primes_less_than :: Int -> [Int]\n",
    "primes_less_than n = filter is_prime [2..(n-1)]"
   ]
  },
  {
   "cell_type": "code",
   "execution_count": null,
   "metadata": {
    "collapsed": true
   },
   "outputs": [],
   "source": []
  },
  {
   "cell_type": "code",
   "execution_count": 8,
   "metadata": {
    "collapsed": true
   },
   "outputs": [],
   "source": [
    "--adapted https://stackoverflow.com/questions/19808224/haskell-reverse-integer-with-recursion\n",
    "reverseInt :: Int -> Int\n",
    "reverseInt 0 = 0\n",
    "reverseInt n = mod n 10 * 10^place + reverseInt (div n 10)\n",
    "  where\n",
    "    n' = fromIntegral n\n",
    "    place = (floor . logBase 10) n'"
   ]
  },
  {
   "cell_type": "code",
   "execution_count": null,
   "metadata": {
    "collapsed": true
   },
   "outputs": [],
   "source": []
  },
  {
   "cell_type": "code",
   "execution_count": 9,
   "metadata": {
    "collapsed": true
   },
   "outputs": [],
   "source": [
    "is_emirp :: Int -> Bool\n",
    "is_emirp n = is_prime (reverseInt n) && (n /= reverseInt n)"
   ]
  },
  {
   "cell_type": "code",
   "execution_count": 10,
   "metadata": {},
   "outputs": [
    {
     "data": {
      "text/plain": [
       "8"
      ]
     },
     "metadata": {},
     "output_type": "display_data"
    }
   ],
   "source": [
    "length (filter is_emirp (primes_less_than 100))"
   ]
  },
  {
   "cell_type": "code",
   "execution_count": null,
   "metadata": {
    "collapsed": true
   },
   "outputs": [],
   "source": []
  },
  {
   "cell_type": "code",
   "execution_count": 11,
   "metadata": {
    "collapsed": true
   },
   "outputs": [],
   "source": [
    "count_emirps :: Int -> Int\n",
    "count_emirps n \n",
    "        | n < 13 = 0\n",
    "        | n == 13 = 1\n",
    "        | otherwise = length (filter is_emirp (primes_less_than n))"
   ]
  },
  {
   "cell_type": "code",
   "execution_count": 12,
   "metadata": {},
   "outputs": [
    {
     "data": {
      "text/plain": [
       "36"
      ]
     },
     "metadata": {},
     "output_type": "display_data"
    }
   ],
   "source": [
    "count_emirps 1000"
   ]
  },
  {
   "cell_type": "code",
   "execution_count": 69,
   "metadata": {},
   "outputs": [],
   "source": [
    "biggest_sum :: [[Int]] -> [Int]\n",
    "biggest_sum [] = []\n",
    "biggest_sum (x:xs) \n",
    "                   | sum(x) >= sum(biggest_sum(xs)) = x\n",
    "                   | sum(x) < sum(biggest_sum(xs)) = biggest_sum(xs)\n",
    "            "
   ]
  },
  {
   "cell_type": "code",
   "execution_count": 73,
   "metadata": {},
   "outputs": [
    {
     "data": {
      "text/plain": [
       "[2,5]"
      ]
     },
     "metadata": {},
     "output_type": "display_data"
    }
   ],
   "source": [
    "biggest_sum [[2],[2,5],[-1,3,4]]"
   ]
  },
  {
   "cell_type": "code",
   "execution_count": 80,
   "metadata": {},
   "outputs": [],
   "source": [
    "greatest :: (a -> Int) -> [a] -> a\n",
    "greatest f [] = error \"nothing in the list\"\n",
    "greatest f [x] = x\n",
    "greatest f (x:xs) | f x > f (greatest f xs) = x\n",
    "                  | otherwise = greatest f xs"
   ]
  },
  {
   "cell_type": "code",
   "execution_count": 81,
   "metadata": {},
   "outputs": [
    {
     "data": {
      "text/plain": [
       "[2,5]"
      ]
     },
     "metadata": {},
     "output_type": "display_data"
    }
   ],
   "source": [
    "greatest sum [[2,5], [-1,3,4], [2]]"
   ]
  },
  {
   "cell_type": "code",
   "execution_count": 82,
   "metadata": {},
   "outputs": [
    {
     "data": {
      "text/plain": [
       "\"brown\""
      ]
     },
     "metadata": {},
     "output_type": "display_data"
    }
   ],
   "source": [
    "greatest length [\"the\", \"quick\", \"brown\", \"fox\"]"
   ]
  },
  {
   "cell_type": "code",
   "execution_count": 83,
   "metadata": {},
   "outputs": [
    {
     "data": {
      "text/plain": [
       "51"
      ]
     },
     "metadata": {},
     "output_type": "display_data"
    }
   ],
   "source": [
    "greatest id [51,32,3]"
   ]
  },
  {
   "cell_type": "code",
   "execution_count": 86,
   "metadata": {},
   "outputs": [],
   "source": [
    "is_bit :: Int -> Bool\n",
    "is_bit x | (x == 0) || (x==1) = True\n",
    "         | otherwise          = False"
   ]
  },
  {
   "cell_type": "code",
   "execution_count": 88,
   "metadata": {},
   "outputs": [
    {
     "data": {
      "text/plain": [
       "True"
      ]
     },
     "metadata": {},
     "output_type": "display_data"
    }
   ],
   "source": [
    "is_bit 1"
   ]
  },
  {
   "cell_type": "code",
   "execution_count": 89,
   "metadata": {
    "collapsed": true
   },
   "outputs": [],
   "source": [
    "flip_bit :: Int -> Int\n",
    "flip_bit x | is_bit x == False = error \"Input is not a bit\"\n",
    "           | x == 0 = 1\n",
    "           | x == 1 = 0"
   ]
  },
  {
   "cell_type": "code",
   "execution_count": 92,
   "metadata": {},
   "outputs": [
    {
     "data": {
      "text/plain": [
       "0"
      ]
     },
     "metadata": {},
     "output_type": "display_data"
    }
   ],
   "source": [
    "flip_bit 1"
   ]
  },
  {
   "cell_type": "code",
   "execution_count": 93,
   "metadata": {
    "collapsed": true
   },
   "outputs": [],
   "source": [
    "is_bit_seq1:: [Int]->Bool\n",
    "is_bit_seq1 [] = True\n",
    "is_bit_seq1 (x:xs) | is_bit x == False = False\n",
    "                   | otherwise         = is_bit_seq1(xs)\n",
    "                    "
   ]
  },
  {
   "cell_type": "code",
   "execution_count": 99,
   "metadata": {},
   "outputs": [
    {
     "data": {
      "text/plain": [
       "True"
      ]
     },
     "metadata": {},
     "output_type": "display_data"
    }
   ],
   "source": [
    "is_bit_seq1[1,1,0,1]"
   ]
  },
  {
   "cell_type": "code",
   "execution_count": 100,
   "metadata": {
    "collapsed": true
   },
   "outputs": [],
   "source": [
    "is_bit_seq2:: [Int]->Bool\n",
    "is_bit_seq2 [] = True\n",
    "is_bit_seq2 (x:xs) = if (is_bit x == False) then False else is_bit_seq2(xs)\n",
    "                    "
   ]
  },
  {
   "cell_type": "code",
   "execution_count": 109,
   "metadata": {},
   "outputs": [
    {
     "data": {
      "text/plain": [
       "False"
      ]
     },
     "metadata": {},
     "output_type": "display_data"
    }
   ],
   "source": [
    "is_bit_seq2[1,1,0,5]"
   ]
  },
  {
   "cell_type": "code",
   "execution_count": 106,
   "metadata": {},
   "outputs": [],
   "source": [
    "is_bit_seq3:: [Int]->Bool\n",
    "is_bit_seq3 [] = True\n",
    "is_bit_seq3 x = all is_bit x                    "
   ]
  },
  {
   "cell_type": "code",
   "execution_count": 111,
   "metadata": {},
   "outputs": [
    {
     "data": {
      "text/plain": [
       "False"
      ]
     },
     "metadata": {},
     "output_type": "display_data"
    }
   ],
   "source": [
    "is_bit_seq3[1,1,10,1]"
   ]
  },
  {
   "cell_type": "code",
   "execution_count": 118,
   "metadata": {},
   "outputs": [],
   "source": [
    "invert_bits1::[Int]->[Int]\n",
    "invert_bits1 [] = []\n",
    "invert_bits1 (x:xs) = [flip_bit x] ++ (invert_bits1 xs)"
   ]
  },
  {
   "cell_type": "code",
   "execution_count": 119,
   "metadata": {},
   "outputs": [
    {
     "data": {
      "text/plain": [
       "[1,0,0,1]"
      ]
     },
     "metadata": {},
     "output_type": "display_data"
    }
   ],
   "source": [
    "invert_bits1 [0,1,1,0]"
   ]
  },
  {
   "cell_type": "code",
   "execution_count": 120,
   "metadata": {
    "collapsed": true
   },
   "outputs": [],
   "source": [
    "invert_bits2::[Int]->[Int]\n",
    "invert_bits2 [] = []\n",
    "invert_bits2 lst = map flip_bit lst"
   ]
  },
  {
   "cell_type": "code",
   "execution_count": 124,
   "metadata": {},
   "outputs": [
    {
     "data": {
      "text/plain": [
       "[1,0,0,1]"
      ]
     },
     "metadata": {},
     "output_type": "display_data"
    }
   ],
   "source": [
    "invert_bits2 [0,1,1,0]"
   ]
  },
  {
   "cell_type": "code",
   "execution_count": 123,
   "metadata": {
    "collapsed": true
   },
   "outputs": [],
   "source": [
    "invert_bits3::[Int]->[Int]\n",
    "invert_bits3 [] = []\n",
    "invert_bits3 lst = [flip_bit x | x <- lst]"
   ]
  },
  {
   "cell_type": "code",
   "execution_count": 125,
   "metadata": {},
   "outputs": [
    {
     "data": {
      "text/plain": [
       "[1,0,0,1]"
      ]
     },
     "metadata": {},
     "output_type": "display_data"
    }
   ],
   "source": [
    "invert_bits3 [0,1,1,0]"
   ]
  },
  {
   "cell_type": "code",
   "execution_count": 166,
   "metadata": {},
   "outputs": [],
   "source": [
    "bit_count::[Int]->(Int, Int)\n",
    "bit_count [] = (0,0)\n",
    "bit_count lst = (count0s lst, count1s lst)\n",
    "\n",
    "count0s::[Int]->Int\n",
    "count0s [] = 0\n",
    "count0s lst = foldr (\\x y -> x + y) 0 (invert_bits1 lst)\n",
    "\n",
    "count1s::[Int]->Int\n",
    "count1s [] = 0\n",
    "count1s lst = foldr (\\x y -> x + y) 0 lst\n",
    "\n"
   ]
  },
  {
   "cell_type": "code",
   "execution_count": 168,
   "metadata": {},
   "outputs": [
    {
     "data": {
      "text/plain": [
       "(1,3)"
      ]
     },
     "metadata": {},
     "output_type": "display_data"
    }
   ],
   "source": [
    "bit_count [1,1,0,1]"
   ]
  },
  {
   "cell_type": "code",
   "execution_count": 182,
   "metadata": {},
   "outputs": [],
   "source": [
    "all_basic_bit_seqs:: Int->[[Int]]\n",
    "all_basic_bit_seqs 0 = []\n",
    "all_basic_bit_seqs 1 = [[0],[1]]\n",
    "all_basic_bit_seqs n = [ 0 : x | x <- prev ] ++ [ 1 : x | x <- prev ]\n",
    "                        where prev = all_basic_bit_seqs (n-1)"
   ]
  },
  {
   "cell_type": "code",
   "execution_count": 183,
   "metadata": {},
   "outputs": [
    {
     "data": {
      "text/plain": [
       "[[0,0],[0,1],[1,0],[1,1]]"
      ]
     },
     "metadata": {},
     "output_type": "display_data"
    }
   ],
   "source": [
    "all_basic_bit_seqs 2"
   ]
  },
  {
   "cell_type": "code",
   "execution_count": 184,
   "metadata": {
    "collapsed": true
   },
   "outputs": [],
   "source": [
    "data Bit = Zero | One\n",
    "    deriving (Show, Eq)"
   ]
  },
  {
   "cell_type": "code",
   "execution_count": 188,
   "metadata": {},
   "outputs": [],
   "source": [
    "flipBit :: Bit -> Bit\n",
    "flipBit Zero = One\n",
    "flipBit One = Zero\n"
   ]
  },
  {
   "cell_type": "code",
   "execution_count": 189,
   "metadata": {},
   "outputs": [
    {
     "data": {
      "text/plain": [
       "Zero"
      ]
     },
     "metadata": {},
     "output_type": "display_data"
    }
   ],
   "source": [
    "flipBit One"
   ]
  },
  {
   "cell_type": "code",
   "execution_count": 190,
   "metadata": {
    "collapsed": true
   },
   "outputs": [],
   "source": [
    "invert :: [Bit] -> [Bit]\n",
    "invert [] = []\n",
    "invert lst = map flipBit lst"
   ]
  },
  {
   "cell_type": "code",
   "execution_count": 191,
   "metadata": {},
   "outputs": [
    {
     "data": {
      "text/plain": [
       "[One,One,Zero,One]"
      ]
     },
     "metadata": {},
     "output_type": "display_data"
    }
   ],
   "source": [
    "invert [Zero, Zero, One, Zero]"
   ]
  },
  {
   "cell_type": "code",
   "execution_count": 194,
   "metadata": {},
   "outputs": [],
   "source": [
    "-- all_bit_seqs:: Int -> [[Bit]]\n",
    "-- all_bit_seqs 0 = []\n",
    "-- all_bit_seqs 1 = [[Zero],[One]]"
   ]
  },
  {
   "cell_type": "code",
   "execution_count": null,
   "metadata": {
    "collapsed": true
   },
   "outputs": [],
   "source": []
  },
  {
   "cell_type": "code",
   "execution_count": 204,
   "metadata": {},
   "outputs": [],
   "source": [
    "bitSum1 :: [Bit] -> Int\n",
    "bitSum1 lst = length (filter (\\bit -> bit == One) lst)"
   ]
  },
  {
   "cell_type": "code",
   "execution_count": 210,
   "metadata": {},
   "outputs": [
    {
     "data": {
      "text/plain": [
       "4"
      ]
     },
     "metadata": {},
     "output_type": "display_data"
    }
   ],
   "source": [
    "bitSum1 [One, One, Zero, One, One]"
   ]
  },
  {
   "cell_type": "code",
   "execution_count": 211,
   "metadata": {},
   "outputs": [
    {
     "data": {
      "text/plain": [
       "4"
      ]
     },
     "metadata": {},
     "output_type": "display_data"
    }
   ],
   "source": [
    "bitSum1 (replicate 4 One)"
   ]
  },
  {
   "cell_type": "code",
   "execution_count": 214,
   "metadata": {},
   "outputs": [],
   "source": [
    "bitSum2 :: [Maybe Bit] -> Int\n",
    "bitSum2 lst = length (filter (\\bit -> bit == Just One) lst)"
   ]
  },
  {
   "cell_type": "code",
   "execution_count": 218,
   "metadata": {},
   "outputs": [
    {
     "data": {
      "text/plain": [
       "2"
      ]
     },
     "metadata": {},
     "output_type": "display_data"
    }
   ],
   "source": [
    "bitSum2 [Nothing, Nothing, Just One, Just Zero, Just One]"
   ]
  },
  {
   "cell_type": "code",
   "execution_count": 219,
   "metadata": {
    "collapsed": true
   },
   "outputs": [],
   "source": [
    "data List a = Empty | Cons a (List a)\n",
    "    deriving Show"
   ]
  },
  {
   "cell_type": "code",
   "execution_count": 225,
   "metadata": {},
   "outputs": [],
   "source": [
    "toList :: [a] -> List a\n",
    "toList [] = Empty\n",
    "toList (x:xs) = Cons x (toList xs)\n"
   ]
  },
  {
   "cell_type": "code",
   "execution_count": 228,
   "metadata": {},
   "outputs": [
    {
     "data": {
      "text/plain": [
       "Cons 'a' (Cons 'p' (Cons 'p' (Cons 'l' (Cons 'e' Empty))))"
      ]
     },
     "metadata": {},
     "output_type": "display_data"
    }
   ],
   "source": [
    "toList \"apple\""
   ]
  },
  {
   "cell_type": "code",
   "execution_count": 240,
   "metadata": {},
   "outputs": [],
   "source": [
    "toHaskellList :: List a -> [a]\n",
    "toHaskellList Empty = []\n",
    "toHaskellList (Cons x lst) = [x] ++ toHaskellList(lst)"
   ]
  },
  {
   "cell_type": "code",
   "execution_count": 243,
   "metadata": {},
   "outputs": [
    {
     "data": {
      "text/plain": [
       "[\"cat\",\"bat\",\"rat\"]"
      ]
     },
     "metadata": {},
     "output_type": "display_data"
    }
   ],
   "source": [
    "toHaskellList (Cons \"cat\" (Cons \"bat\" (Cons \"rat\" Empty)))"
   ]
  },
  {
   "cell_type": "code",
   "execution_count": 259,
   "metadata": {},
   "outputs": [],
   "source": [
    "append :: List a -> List a -> List a\n",
    "append Empty Empty = Empty\n",
    "append left  Empty = left\n",
    "append Empty right = right\n",
    "append (Cons x lst) right = Cons x (append lst right)"
   ]
  },
  {
   "cell_type": "code",
   "execution_count": 261,
   "metadata": {},
   "outputs": [
    {
     "data": {
      "text/plain": [
       "Cons 1 (Cons 2 (Cons 3 (Cons 7 (Cons 8 Empty))))"
      ]
     },
     "metadata": {},
     "output_type": "display_data"
    }
   ],
   "source": [
    "append (Cons 1 (Cons 2 (Cons 3 Empty))) (Cons 7 (Cons 8 Empty))"
   ]
  },
  {
   "cell_type": "code",
   "execution_count": 262,
   "metadata": {
    "collapsed": true
   },
   "outputs": [],
   "source": [
    "-- removeAll f L``that returns a ``List a\n",
    "removeAll :: (a ->Bool)->List a-> List a\n",
    "removeAll f  Empty       = Empty\n",
    "removeAll f (Cons x lst) = if f x then removeAll f lst else Cons x (removeAll f lst) "
   ]
  },
  {
   "cell_type": "code",
   "execution_count": 266,
   "metadata": {},
   "outputs": [
    {
     "data": {
      "text/plain": [
       "Cons 2 (Cons 4 Empty)"
      ]
     },
     "metadata": {},
     "output_type": "display_data"
    }
   ],
   "source": [
    "removeAll odd (Cons 1 (Cons 2 (Cons 3 (Cons 4 Empty))))"
   ]
  },
  {
   "cell_type": "code",
   "execution_count": 272,
   "metadata": {
    "collapsed": true
   },
   "outputs": [],
   "source": [
    "sort :: Ord a => List a -> List a\n",
    "sort Empty = Empty\n",
    "sort (Cons x xs)= append smalls (Cons x bigs)\n",
    "                  where smalls = sort (removeAll (>x) xs)\n",
    "                        bigs = sort (removeAll (<=x) xs)"
   ]
  },
  {
   "cell_type": "code",
   "execution_count": 273,
   "metadata": {},
   "outputs": [
    {
     "data": {
      "text/plain": [
       "Cons 'a' (Cons 'c' (Cons 'r' (Cons 't' Empty)))"
      ]
     },
     "metadata": {},
     "output_type": "display_data"
    }
   ],
   "source": [
    "sort (Cons 'c' (Cons 'a' (Cons 'r' (Cons 't' Empty))))\n"
   ]
  },
  {
   "cell_type": "code",
   "execution_count": null,
   "metadata": {
    "collapsed": true
   },
   "outputs": [],
   "source": []
  }
 ],
 "metadata": {
  "kernelspec": {
   "display_name": "Haskell",
   "language": "haskell",
   "name": "haskell"
  },
  "language_info": {
   "codemirror_mode": "ihaskell",
   "file_extension": ".hs",
   "name": "haskell",
   "version": "8.0.2"
  }
 },
 "nbformat": 4,
 "nbformat_minor": 2
}
