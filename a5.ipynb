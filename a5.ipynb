{
 "cells": [
  {
   "cell_type": "code",
   "execution_count": 1,
   "metadata": {
    "collapsed": true
   },
   "outputs": [],
   "source": [
    "snoc :: a -> [a] -> [a]\n",
    "snoc x [] = [x]\n",
    "snoc x (y:ys) = y:snoc x ys \n"
   ]
  },
  {
   "cell_type": "code",
   "execution_count": 2,
   "metadata": {},
   "outputs": [
    {
     "data": {
      "text/plain": [
       "[1,2,3,5]"
      ]
     },
     "metadata": {},
     "output_type": "display_data"
    }
   ],
   "source": [
    "snoc 5 [1,2,3]"
   ]
  },
  {
   "cell_type": "code",
   "execution_count": 3,
   "metadata": {
    "collapsed": true
   },
   "outputs": [],
   "source": [
    "myappend :: [a] -> [a] -> [a]\n",
    "myappend [] []     = []\n",
    "myappend [] lst2   = lst2\n",
    "myappend lst1 []   = lst1\n",
    "myappend lst1 (x:xs)= myappend (snoc x lst1) xs"
   ]
  },
  {
   "cell_type": "code",
   "execution_count": 4,
   "metadata": {},
   "outputs": [
    {
     "data": {
      "text/plain": [
       "[1,2,3,10,4,5,6]"
      ]
     },
     "metadata": {},
     "output_type": "display_data"
    }
   ],
   "source": [
    "myappend [1,2,3,10] [4,5,6]"
   ]
  },
  {
   "cell_type": "code",
   "execution_count": 5,
   "metadata": {
    "collapsed": true
   },
   "outputs": [],
   "source": [
    "myreverse :: [a] -> [a]\n",
    "myreverse [] = []\n",
    "myreverse (x:xs) = snoc x (myreverse xs)"
   ]
  },
  {
   "cell_type": "code",
   "execution_count": 6,
   "metadata": {},
   "outputs": [
    {
     "data": {
      "text/plain": [
       "[10,9,8,7,6,5,4,3,2,1]"
      ]
     },
     "metadata": {},
     "output_type": "display_data"
    }
   ],
   "source": [
    "myreverse [1,2,3,4,5,6,7,8,9,10]"
   ]
  },
  {
   "cell_type": "code",
   "execution_count": 7,
   "metadata": {
    "collapsed": true
   },
   "outputs": [],
   "source": [
    "--from http://www.cs.sfu.ca/CourseCentral/383/tjd/haskell_functions_lhs.html\n",
    "smallest_divisor :: Int -> Int\n",
    "smallest_divisor n\n",
    "    | n < 0     = error \"n must be >= 0\"\n",
    "    | n == 0    = 0\n",
    "    | n == 1    = 1\n",
    "    | otherwise = head (dropWhile (\\x -> n `mod` x /= 0) [2..n])\n",
    "\n",
    "--from http://www.cs.sfu.ca/CourseCentral/383/tjd/haskell_functions_lhs.html\n",
    "is_prime :: Int -> Bool\n",
    "is_prime n | n < 2     = False\n",
    "           | otherwise = (smallest_divisor n) == n\n",
    "           \n",
    "--from http://www.cs.sfu.ca/CourseCentral/383/tjd/haskell_functions_lhs.html\n",
    "primes_less_than :: Int -> [Int]\n",
    "primes_less_than n = filter is_prime [2..(n-1)]"
   ]
  },
  {
   "cell_type": "code",
   "execution_count": null,
   "metadata": {
    "collapsed": true
   },
   "outputs": [],
   "source": []
  },
  {
   "cell_type": "code",
   "execution_count": 8,
   "metadata": {
    "collapsed": true
   },
   "outputs": [],
   "source": [
    "--adapted https://stackoverflow.com/questions/19808224/haskell-reverse-integer-with-recursion\n",
    "reverseInt :: Int -> Int\n",
    "reverseInt 0 = 0\n",
    "reverseInt n = mod n 10 * 10^place + reverseInt (div n 10)\n",
    "  where\n",
    "    n' = fromIntegral n\n",
    "    place = (floor . logBase 10) n'"
   ]
  },
  {
   "cell_type": "code",
   "execution_count": null,
   "metadata": {
    "collapsed": true
   },
   "outputs": [],
   "source": []
  },
  {
   "cell_type": "code",
   "execution_count": 9,
   "metadata": {
    "collapsed": true
   },
   "outputs": [],
   "source": [
    "is_emirp :: Int -> Bool\n",
    "is_emirp n = is_prime (reverseInt n) && (n /= reverseInt n)"
   ]
  },
  {
   "cell_type": "code",
   "execution_count": 10,
   "metadata": {},
   "outputs": [
    {
     "data": {
      "text/plain": [
       "8"
      ]
     },
     "metadata": {},
     "output_type": "display_data"
    }
   ],
   "source": [
    "length (filter is_emirp (primes_less_than 100))"
   ]
  },
  {
   "cell_type": "code",
   "execution_count": null,
   "metadata": {
    "collapsed": true
   },
   "outputs": [],
   "source": []
  },
  {
   "cell_type": "code",
   "execution_count": 11,
   "metadata": {
    "collapsed": true
   },
   "outputs": [],
   "source": [
    "count_emirps :: Int -> Int\n",
    "count_emirps n \n",
    "        | n < 13 = 0\n",
    "        | n == 13 = 1\n",
    "        | otherwise = length (filter is_emirp (primes_less_than n))"
   ]
  },
  {
   "cell_type": "code",
   "execution_count": 12,
   "metadata": {},
   "outputs": [
    {
     "data": {
      "text/plain": [
       "36"
      ]
     },
     "metadata": {},
     "output_type": "display_data"
    }
   ],
   "source": [
    "count_emirps 1000"
   ]
  },
  {
   "cell_type": "code",
   "execution_count": 69,
   "metadata": {},
   "outputs": [],
   "source": [
    "biggest_sum :: [[Int]] -> [Int]\n",
    "biggest_sum [] = []\n",
    "biggest_sum (x:xs) \n",
    "                   | sum(x) >= sum(biggest_sum(xs)) = x\n",
    "                   | sum(x) < sum(biggest_sum(xs)) = biggest_sum(xs)\n",
    "            "
   ]
  },
  {
   "cell_type": "code",
   "execution_count": 73,
   "metadata": {},
   "outputs": [
    {
     "data": {
      "text/plain": [
       "[2,5]"
      ]
     },
     "metadata": {},
     "output_type": "display_data"
    }
   ],
   "source": [
    "biggest_sum [[2],[2,5],[-1,3,4]]"
   ]
  },
  {
   "cell_type": "code",
   "execution_count": 76,
   "metadata": {},
   "outputs": [
    {
     "data": {
      "text/html": [
       "<style>/* Styles used for the Hoogle display in the pager */\n",
       ".hoogle-doc {\n",
       "display: block;\n",
       "padding-bottom: 1.3em;\n",
       "padding-left: 0.4em;\n",
       "}\n",
       ".hoogle-code {\n",
       "display: block;\n",
       "font-family: monospace;\n",
       "white-space: pre;\n",
       "}\n",
       ".hoogle-text {\n",
       "display: block;\n",
       "}\n",
       ".hoogle-name {\n",
       "color: green;\n",
       "font-weight: bold;\n",
       "}\n",
       ".hoogle-head {\n",
       "font-weight: bold;\n",
       "}\n",
       ".hoogle-sub {\n",
       "display: block;\n",
       "margin-left: 0.4em;\n",
       "}\n",
       ".hoogle-package {\n",
       "font-weight: bold;\n",
       "font-style: italic;\n",
       "}\n",
       ".hoogle-module {\n",
       "font-weight: bold;\n",
       "}\n",
       ".hoogle-class {\n",
       "font-weight: bold;\n",
       "}\n",
       ".get-type {\n",
       "color: green;\n",
       "font-weight: bold;\n",
       "font-family: monospace;\n",
       "display: block;\n",
       "white-space: pre-wrap;\n",
       "}\n",
       ".show-type {\n",
       "color: green;\n",
       "font-weight: bold;\n",
       "font-family: monospace;\n",
       "margin-left: 1em;\n",
       "}\n",
       ".mono {\n",
       "font-family: monospace;\n",
       "display: block;\n",
       "}\n",
       ".err-msg {\n",
       "color: red;\n",
       "font-style: italic;\n",
       "font-family: monospace;\n",
       "white-space: pre;\n",
       "display: block;\n",
       "}\n",
       "#unshowable {\n",
       "color: red;\n",
       "font-weight: bold;\n",
       "}\n",
       ".err-msg.in.collapse {\n",
       "padding-top: 0.7em;\n",
       "}\n",
       ".highlight-code {\n",
       "white-space: pre;\n",
       "font-family: monospace;\n",
       "}\n",
       ".suggestion-warning { \n",
       "font-weight: bold;\n",
       "color: rgb(200, 130, 0);\n",
       "}\n",
       ".suggestion-error { \n",
       "font-weight: bold;\n",
       "color: red;\n",
       "}\n",
       ".suggestion-name {\n",
       "font-weight: bold;\n",
       "}\n",
       "</style><span class='err-msg'>&lt;interactive&gt;:2:17: error:<br/>    • Couldn't match expected type ‘a’ with actual type ‘[t0]’<br/>      ‘a’ is a rigid type variable bound by<br/>        the type signature for:<br/>          greatest :: forall a. (a -&gt; Int) -&gt; [a] -&gt; a<br/>        at &lt;interactive&gt;:1:13<br/>    • In the expression: []<br/>      In an equation for ‘greatest’: greatest f [] = []<br/>    • Relevant bindings include<br/>        f :: a -&gt; Int (bound at &lt;interactive&gt;:2:10)<br/>        greatest :: (a -&gt; Int) -&gt; [a] -&gt; a (bound at &lt;interactive&gt;:2:1)</span>"
      ],
      "text/plain": [
       "<interactive>:2:17: error:\n",
       "    • Couldn't match expected type ‘a’ with actual type ‘[t0]’\n",
       "      ‘a’ is a rigid type variable bound by\n",
       "        the type signature for:\n",
       "          greatest :: forall a. (a -> Int) -> [a] -> a\n",
       "        at <interactive>:1:13\n",
       "    • In the expression: []\n",
       "      In an equation for ‘greatest’: greatest f [] = []\n",
       "    • Relevant bindings include\n",
       "        f :: a -> Int (bound at <interactive>:2:10)\n",
       "        greatest :: (a -> Int) -> [a] -> a (bound at <interactive>:2:1)"
      ]
     },
     "metadata": {},
     "output_type": "display_data"
    }
   ],
   "source": [
    "greatest :: (a -> Int) -> [a] -> a\n",
    "greatest f [] = []\n",
    "greatest f [x] = x\n",
    "greatest f (x:xs) | f x > f (greatest f xs) = x\n",
    "                  | otherwise = greatest f xs\n"
   ]
  },
  {
   "cell_type": "code",
   "execution_count": null,
   "metadata": {},
   "outputs": [],
   "source": []
  },
  {
   "cell_type": "code",
   "execution_count": null,
   "metadata": {},
   "outputs": [],
   "source": []
  },
  {
   "cell_type": "code",
   "execution_count": null,
   "metadata": {
    "collapsed": true
   },
   "outputs": [],
   "source": []
  }
 ],
 "metadata": {
  "kernelspec": {
   "display_name": "Haskell",
   "language": "haskell",
   "name": "haskell"
  },
  "language_info": {
   "codemirror_mode": "ihaskell",
   "file_extension": ".hs",
   "name": "haskell",
   "version": "8.0.2"
  }
 },
 "nbformat": 4,
 "nbformat_minor": 2
}
