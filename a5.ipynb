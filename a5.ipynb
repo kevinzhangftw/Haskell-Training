{
 "cells": [
  {
   "cell_type": "code",
   "execution_count": 7,
   "metadata": {},
   "outputs": [
    {
     "data": {
      "text/plain": [
       "[6,7]"
      ]
     },
     "metadata": {},
     "output_type": "display_data"
    }
   ],
   "source": []
  },
  {
   "cell_type": "code",
   "execution_count": null,
   "metadata": {
    "collapsed": true
   },
   "outputs": [],
   "source": [
    "-- snoc :: a -> [a] -> [a]\n",
    "-- snoc 5 [1,2,3] is [1,2,3,5]\n",
    "-- snoc 's' \"cat\" is \"cats\".\n",
    "-- Implement snoc using only basic recursion"
   ]
  },
  {
   "cell_type": "code",
   "execution_count": 205,
   "metadata": {},
   "outputs": [],
   "source": [
    "snoc :: a -> [a] -> [a]\n",
    "snoc x [] = [x]\n",
    "snoc x (y:ys) = y:snoc x ys "
   ]
  },
  {
   "cell_type": "code",
   "execution_count": 62,
   "metadata": {},
   "outputs": [
    {
     "data": {
      "text/plain": [
       "[1,2,3,5]"
      ]
     },
     "metadata": {},
     "output_type": "display_data"
    }
   ],
   "source": [
    "snoc 5 [1,2,3]"
   ]
  },
  {
   "cell_type": "code",
   "execution_count": 60,
   "metadata": {},
   "outputs": [],
   "source": [
    "-- Write your own version of the Haskell append operator ++ with this signature:\n"
   ]
  },
  {
   "cell_type": "code",
   "execution_count": 66,
   "metadata": {
    "collapsed": true
   },
   "outputs": [],
   "source": [
    "myappend :: [a] -> [a] -> [a]\n",
    "myappend [] []     = []\n",
    "myappend [] lst2   = lst2\n",
    "myappend lst1 []   = lst1\n",
    "myappend lst1 (x:xs)= myappend (snoc x lst1) xs"
   ]
  },
  {
   "cell_type": "code",
   "execution_count": 67,
   "metadata": {},
   "outputs": [
    {
     "data": {
      "text/plain": [
       "[1,2,3,10,4,5,6]"
      ]
     },
     "metadata": {},
     "output_type": "display_data"
    }
   ],
   "source": [
    "myappend [1,2,3,10] [4,5,6]"
   ]
  },
  {
   "cell_type": "code",
   "execution_count": 72,
   "metadata": {},
   "outputs": [],
   "source": [
    "myreverse :: [a] -> [a]\n",
    "myreverse [] = []\n",
    "myreverse (x:xs) = myappend (myreverse xs) [x]"
   ]
  },
  {
   "cell_type": "code",
   "execution_count": 73,
   "metadata": {},
   "outputs": [
    {
     "data": {
      "text/plain": [
       "[5,4,3,2,1]"
      ]
     },
     "metadata": {},
     "output_type": "display_data"
    }
   ],
   "source": [
    "myreverse [1, 2, 3, 4, 5]"
   ]
  },
  {
   "cell_type": "code",
   "execution_count": 207,
   "metadata": {
    "collapsed": true
   },
   "outputs": [],
   "source": [
    "-- count_emirps n that returns the number of emirps less than, or equal to, n\n",
    "-- a prime also prime with digits reversed.\n",
    "count_emirps :: Int -> Int\n",
    "count_emirps n = length $ filter isEmirp [1..n]"
   ]
  },
  {
   "cell_type": "code",
   "execution_count": 259,
   "metadata": {},
   "outputs": [],
   "source": [
    "isPrime :: Int -> Bool\n",
    "isPrime n = \n",
    "    n > 1 && \n",
    "    not ( any (\\x -> isInt(fromIntegral n / fromIntegral x)) [2.. n `div` 2] )"
   ]
  },
  {
   "cell_type": "code",
   "execution_count": 258,
   "metadata": {},
   "outputs": [],
   "source": [
    "isInt :: Float -> Bool \n",
    "isInt n = floor n == ceiling n"
   ]
  },
  {
   "cell_type": "code",
   "execution_count": 192,
   "metadata": {},
   "outputs": [],
   "source": [
    "reverseInt :: Int -> Int\n",
    "reverseInt n = read (myreverse $ show n) ::Int"
   ]
  },
  {
   "cell_type": "code",
   "execution_count": 197,
   "metadata": {},
   "outputs": [],
   "source": [
    "isEmirp :: Int -> Bool\n",
    "isEmirp n = isPrime n && \n",
    "            isPrime ( reverseInt n ) &&\n",
    "            n /= reverseInt n"
   ]
  },
  {
   "cell_type": "code",
   "execution_count": 206,
   "metadata": {},
   "outputs": [
    {
     "data": {
      "text/plain": [
       "[13,17,31,37,71,73,79,97,107,113,149,157,167,179,199]"
      ]
     },
     "metadata": {},
     "output_type": "display_data"
    }
   ],
   "source": [
    "-- 13, 17, 31, 37, 71, 73, 79, 97, 107, 113, 149, 157, 167, 179, 199, \n",
    "filter isEmirp [1..300]"
   ]
  },
  {
   "cell_type": "code",
   "execution_count": 230,
   "metadata": {},
   "outputs": [],
   "source": [
    "-- biggest_sum returns the list with the greatest sum\n",
    "biggest_sum :: [[Int]] -> [Int]\n",
    "biggest_sum [] = []\n",
    "biggest_sum (xs: xss) = if (sum xs > sum (biggest_sum xss)) then xs else biggest_sum xss"
   ]
  },
  {
   "cell_type": "code",
   "execution_count": 233,
   "metadata": {},
   "outputs": [
    {
     "data": {
      "text/plain": [
       "[222]"
      ]
     },
     "metadata": {},
     "output_type": "display_data"
    }
   ],
   "source": [
    "biggest_sum [[2,5], [-1,3,44], [222]]"
   ]
  },
  {
   "cell_type": "code",
   "execution_count": 330,
   "metadata": {},
   "outputs": [],
   "source": [
    "-- greatest f seq returns the item in seq that maximizes function f\n",
    "greatest :: (a -> Int) -> [a] -> a\n",
    "greatest f [] = error \"empty list\"\n",
    "greatest f [x] = x\n",
    "greatest f (x: xs) = if (f x > f (greatest f xs)) then x else greatest f xs"
   ]
  },
  {
   "cell_type": "code",
   "execution_count": 334,
   "metadata": {},
   "outputs": [
    {
     "data": {
      "text/plain": [
       "[2,5]"
      ]
     },
     "metadata": {},
     "output_type": "display_data"
    },
    {
     "data": {
      "text/plain": [
       "\"brown\""
      ]
     },
     "metadata": {},
     "output_type": "display_data"
    },
    {
     "data": {
      "text/plain": [
       "51"
      ]
     },
     "metadata": {},
     "output_type": "display_data"
    }
   ],
   "source": [
    "greatest sum [[2,5], [-1,3,4], [2]]\n",
    "greatest length [\"the\", \"quick\", \"brown\", \"fox\"]\n",
    "greatest id [51,32,3]"
   ]
  },
  {
   "cell_type": "code",
   "execution_count": 320,
   "metadata": {},
   "outputs": [
    {
     "data": {
      "text/html": [
       "<style>/* Styles used for the Hoogle display in the pager */\n",
       ".hoogle-doc {\n",
       "display: block;\n",
       "padding-bottom: 1.3em;\n",
       "padding-left: 0.4em;\n",
       "}\n",
       ".hoogle-code {\n",
       "display: block;\n",
       "font-family: monospace;\n",
       "white-space: pre;\n",
       "}\n",
       ".hoogle-text {\n",
       "display: block;\n",
       "}\n",
       ".hoogle-name {\n",
       "color: green;\n",
       "font-weight: bold;\n",
       "}\n",
       ".hoogle-head {\n",
       "font-weight: bold;\n",
       "}\n",
       ".hoogle-sub {\n",
       "display: block;\n",
       "margin-left: 0.4em;\n",
       "}\n",
       ".hoogle-package {\n",
       "font-weight: bold;\n",
       "font-style: italic;\n",
       "}\n",
       ".hoogle-module {\n",
       "font-weight: bold;\n",
       "}\n",
       ".hoogle-class {\n",
       "font-weight: bold;\n",
       "}\n",
       ".get-type {\n",
       "color: green;\n",
       "font-weight: bold;\n",
       "font-family: monospace;\n",
       "display: block;\n",
       "white-space: pre-wrap;\n",
       "}\n",
       ".show-type {\n",
       "color: green;\n",
       "font-weight: bold;\n",
       "font-family: monospace;\n",
       "margin-left: 1em;\n",
       "}\n",
       ".mono {\n",
       "font-family: monospace;\n",
       "display: block;\n",
       "}\n",
       ".err-msg {\n",
       "color: red;\n",
       "font-style: italic;\n",
       "font-family: monospace;\n",
       "white-space: pre;\n",
       "display: block;\n",
       "}\n",
       "#unshowable {\n",
       "color: red;\n",
       "font-weight: bold;\n",
       "}\n",
       ".err-msg.in.collapse {\n",
       "padding-top: 0.7em;\n",
       "}\n",
       ".highlight-code {\n",
       "white-space: pre;\n",
       "font-family: monospace;\n",
       "}\n",
       ".suggestion-warning { \n",
       "font-weight: bold;\n",
       "color: rgb(200, 130, 0);\n",
       "}\n",
       ".suggestion-error { \n",
       "font-weight: bold;\n",
       "color: red;\n",
       "}\n",
       ".suggestion-name {\n",
       "font-weight: bold;\n",
       "}\n",
       "</style><div class=\"suggestion-name\" style=\"clear:both;\">Redundant bracket</div><div class=\"suggestion-row\" style=\"float: left;\"><div class=\"suggestion-warning\">Found:</div><div class=\"highlight-code\" id=\"haskell\">if (sum [2] > sum (greatest sum [[5]])) then [2] else\n",
       "  greatest sum [[5]]</div></div><div class=\"suggestion-row\" style=\"float: left;\"><div class=\"suggestion-warning\">Why Not:</div><div class=\"highlight-code\" id=\"haskell\">if sum [2] > sum (greatest sum [[5]]) then [2] else\n",
       "  greatest sum [[5]]</div></div>"
      ],
      "text/plain": [
       "Line 1: Redundant bracket\n",
       "Found:\n",
       "if (sum [2] > sum (greatest sum [[5]])) then [2] else\n",
       "  greatest sum [[5]]\n",
       "Why not:\n",
       "if sum [2] > sum (greatest sum [[5]]) then [2] else\n",
       "  greatest sum [[5]]"
      ]
     },
     "metadata": {},
     "output_type": "display_data"
    },
    {
     "data": {
      "text/plain": [
       "[5]"
      ]
     },
     "metadata": {},
     "output_type": "display_data"
    }
   ],
   "source": [
    "if (sum [2] > sum (greatest sum [[5]])) then [2] else greatest sum [[5]]"
   ]
  },
  {
   "cell_type": "code",
   "execution_count": 341,
   "metadata": {},
   "outputs": [],
   "source": [
    "-- is_bit x that returns True when x is 0 or 1, and False otherwise.\n",
    "is_bit :: Int -> Bool\n",
    "is_bit x = (x == 1) || (x == 0)"
   ]
  },
  {
   "cell_type": "code",
   "execution_count": 361,
   "metadata": {},
   "outputs": [],
   "source": [
    "is_bit_seq1 :: [Int] -> Bool\n",
    "is_bit_seq1 x\n",
    "    | x == [] = True\n",
    "    | is_bit(head x) = is_bit_seq1(tail x)\n",
    "    | otherwise = False"
   ]
  },
  {
   "cell_type": "code",
   "execution_count": 363,
   "metadata": {},
   "outputs": [
    {
     "data": {
      "text/plain": [
       "True"
      ]
     },
     "metadata": {},
     "output_type": "display_data"
    }
   ],
   "source": [
    "is_bit_seq1 [1, 1, 1, 0]"
   ]
  },
  {
   "cell_type": "code",
   "execution_count": 365,
   "metadata": {},
   "outputs": [],
   "source": [
    "-- is_bit_seq2 x, use recursion and a if-then-else expression\n",
    "is_bit_seq2 :: [Int] -> Bool\n",
    "is_bit_seq2 [] = True\n",
    "is_bit_seq2 (x: xs) = if is_bit(x) then is_bit_seq2(xs) else False"
   ]
  },
  {
   "cell_type": "code",
   "execution_count": 367,
   "metadata": {},
   "outputs": [
    {
     "data": {
      "text/plain": [
       "False"
      ]
     },
     "metadata": {},
     "output_type": "display_data"
    }
   ],
   "source": [
    "is_bit_seq2 [1, 1, 1, 2]"
   ]
  },
  {
   "cell_type": "code",
   "execution_count": 369,
   "metadata": {},
   "outputs": [],
   "source": [
    "-- is_bit_seq3 x, and use the all function in your solution. Don’t use recursion, guarded commands, or if-then-else.\n",
    "is_bit_seq3 :: [Int] -> Bool\n",
    "is_bit_seq3 x = all is_bit x"
   ]
  },
  {
   "cell_type": "code",
   "execution_count": 372,
   "metadata": {},
   "outputs": [
    {
     "data": {
      "text/plain": [
       "True"
      ]
     },
     "metadata": {},
     "output_type": "display_data"
    }
   ],
   "source": [
    "is_bit_seq3 [1, 1, 1, 1]"
   ]
  },
  {
   "cell_type": "code",
   "execution_count": 381,
   "metadata": {},
   "outputs": [],
   "source": [
    "-- invert_bits1 x Use basic recursion in your solution.\n",
    "invert_bits1 :: [Int] -> [Int]\n",
    "invert_bits1 [] = []\n",
    "invert_bits1 (x:xs) = (1 - x) : (invert_bits1 xs)"
   ]
  },
  {
   "cell_type": "code",
   "execution_count": 382,
   "metadata": {},
   "outputs": [
    {
     "data": {
      "text/plain": [
       "[1,0,0,1]"
      ]
     },
     "metadata": {},
     "output_type": "display_data"
    }
   ],
   "source": [
    "-- invert_bits1 [0,1,1,0] returns [1,0,0,1]\n",
    "invert_bits1 [0,1,1,0]"
   ]
  },
  {
   "cell_type": "code",
   "execution_count": 378,
   "metadata": {
    "collapsed": true
   },
   "outputs": [],
   "source": [
    "invert_bits2 :: [Int] -> [Int]\n",
    "invert_bits2 xs = map (\\x -> (1 - x)) xs"
   ]
  },
  {
   "cell_type": "code",
   "execution_count": 384,
   "metadata": {},
   "outputs": [
    {
     "data": {
      "text/plain": [
       "[1,0,0,1]"
      ]
     },
     "metadata": {},
     "output_type": "display_data"
    }
   ],
   "source": [
    "invert_bits2 [0,1,1,0]"
   ]
  },
  {
   "cell_type": "code",
   "execution_count": 386,
   "metadata": {
    "collapsed": true
   },
   "outputs": [],
   "source": [
    "-- invert_bits3 list comprehension\n",
    "invert_bits3 :: [Int] -> [Int]\n",
    "invert_bits3 xs = [1 - x | x <- xs]"
   ]
  },
  {
   "cell_type": "code",
   "execution_count": 387,
   "metadata": {},
   "outputs": [
    {
     "data": {
      "text/plain": [
       "[1,0,0,1]"
      ]
     },
     "metadata": {},
     "output_type": "display_data"
    }
   ],
   "source": [
    "invert_bits3 [0,1,1,0]"
   ]
  },
  {
   "cell_type": "code",
   "execution_count": 411,
   "metadata": {},
   "outputs": [],
   "source": [
    "-- bit_count x that returns a pair of values indicating the number of 0s and 1s in x\n",
    "bit_count :: [Int] -> (Int, Int)\n",
    "bit_count xs = (length (filter (\\x -> x == 0) xs) , length (filter (\\x -> x == 1) xs) )"
   ]
  },
  {
   "cell_type": "code",
   "execution_count": 412,
   "metadata": {},
   "outputs": [
    {
     "data": {
      "text/plain": [
       "(1,3)"
      ]
     },
     "metadata": {},
     "output_type": "display_data"
    }
   ],
   "source": [
    "bit_count [1,1,0,1] -- [1, 3]"
   ]
  },
  {
   "cell_type": "code",
   "execution_count": 445,
   "metadata": {},
   "outputs": [],
   "source": [
    "all_basic_bit_seqs :: Int -> [[Int]]\n",
    "all_basic_bit_seqs 0 = []\n",
    "all_basic_bit_seqs 1 = [[0], [1]]\n",
    "all_basic_bit_seqs n = map (snoc 0) (all_basic_bit_seqs (n-1)) ++ map (snoc 1) (all_basic_bit_seqs (n-1))"
   ]
  },
  {
   "cell_type": "code",
   "execution_count": 447,
   "metadata": {},
   "outputs": [
    {
     "data": {
      "text/plain": [
       "[[0,0],[1,0],[0,1],[1,1]]"
      ]
     },
     "metadata": {},
     "output_type": "display_data"
    }
   ],
   "source": [
    "all_basic_bit_seqs 2"
   ]
  },
  {
   "cell_type": "code",
   "execution_count": 430,
   "metadata": {},
   "outputs": [
    {
     "data": {
      "text/plain": [
       "[[0,0],[1,0]]"
      ]
     },
     "metadata": {},
     "output_type": "display_data"
    }
   ],
   "source": [
    "map (snoc 0) [[0], [1]]"
   ]
  },
  {
   "cell_type": "code",
   "execution_count": 36,
   "metadata": {
    "collapsed": true
   },
   "outputs": [],
   "source": [
    "data Bit = Zero | One\n",
    "    deriving (Show, Eq)"
   ]
  },
  {
   "cell_type": "code",
   "execution_count": 451,
   "metadata": {
    "collapsed": true
   },
   "outputs": [],
   "source": [
    "flipBit :: Bit -> Bit\n",
    "flipBit b = if b == Zero then One else Zero"
   ]
  },
  {
   "cell_type": "code",
   "execution_count": 452,
   "metadata": {},
   "outputs": [
    {
     "data": {
      "text/plain": [
       "One"
      ]
     },
     "metadata": {},
     "output_type": "display_data"
    }
   ],
   "source": [
    "flipBit Zero"
   ]
  },
  {
   "cell_type": "code",
   "execution_count": 455,
   "metadata": {
    "collapsed": true
   },
   "outputs": [],
   "source": [
    "invert :: [Bit] -> [Bit]\n",
    "invert bs = map flipBit bs"
   ]
  },
  {
   "cell_type": "code",
   "execution_count": 456,
   "metadata": {},
   "outputs": [
    {
     "data": {
      "text/plain": [
       "[One,One,Zero,One]"
      ]
     },
     "metadata": {},
     "output_type": "display_data"
    }
   ],
   "source": [
    "invert [Zero, Zero, One, Zero]"
   ]
  },
  {
   "cell_type": "code",
   "execution_count": 115,
   "metadata": {},
   "outputs": [],
   "source": [
    "all_bit_seqs :: Int -> [[Bit]]\n",
    "all_bit_seqs n = [bit_seq(x,n) | x <- [1..2^n]]\n",
    "-- don't use recursion"
   ]
  },
  {
   "cell_type": "code",
   "execution_count": 25,
   "metadata": {},
   "outputs": [
    {
     "data": {
      "text/plain": [
       "[(1,3),(2,3),(3,3),(4,3),(5,3),(6,3),(7,3),(8,3)]"
      ]
     },
     "metadata": {},
     "output_type": "display_data"
    }
   ],
   "source": [
    "[(x, 3) | x <- [1..2^3]] "
   ]
  },
  {
   "cell_type": "code",
   "execution_count": 113,
   "metadata": {},
   "outputs": [],
   "source": [
    "bit_seq :: (Int, Int) -> [Bit]\n",
    "bit_seq (_, 0) = [] \n",
    "bit_seq (num, len) = map (\\place -> bit_place(num, place)) [1..len] "
   ]
  },
  {
   "cell_type": "code",
   "execution_count": 118,
   "metadata": {},
   "outputs": [
    {
     "data": {
      "text/plain": [
       "[[One,Zero,Zero,Zero,Zero],[Zero,One,Zero,Zero,Zero],[One,One,Zero,Zero,Zero],[Zero,Zero,One,Zero,Zero],[One,Zero,One,Zero,Zero],[Zero,One,One,Zero,Zero],[One,One,One,Zero,Zero],[Zero,Zero,Zero,One,Zero],[One,Zero,Zero,One,Zero],[Zero,One,Zero,One,Zero],[One,One,Zero,One,Zero],[Zero,Zero,One,One,Zero],[One,Zero,One,One,Zero],[Zero,One,One,One,Zero],[One,One,One,One,Zero],[Zero,Zero,Zero,Zero,One],[One,Zero,Zero,Zero,One],[Zero,One,Zero,Zero,One],[One,One,Zero,Zero,One],[Zero,Zero,One,Zero,One],[One,Zero,One,Zero,One],[Zero,One,One,Zero,One],[One,One,One,Zero,One],[Zero,Zero,Zero,One,One],[One,Zero,Zero,One,One],[Zero,One,Zero,One,One],[One,One,Zero,One,One],[Zero,Zero,One,One,One],[One,Zero,One,One,One],[Zero,One,One,One,One],[One,One,One,One,One],[Zero,Zero,Zero,Zero,Zero]]"
      ]
     },
     "metadata": {},
     "output_type": "display_data"
    }
   ],
   "source": [
    "all_bit_seqs 5"
   ]
  },
  {
   "cell_type": "code",
   "execution_count": 109,
   "metadata": {},
   "outputs": [
    {
     "data": {
      "text/plain": [
       "1"
      ]
     },
     "metadata": {},
     "output_type": "display_data"
    },
    {
     "data": {
      "text/plain": [
       "1"
      ]
     },
     "metadata": {},
     "output_type": "display_data"
    },
    {
     "data": {
      "text/plain": [
       "1"
      ]
     },
     "metadata": {},
     "output_type": "display_data"
    }
   ],
   "source": [
    "(7 `div` 2) `mod` 2\n",
    "(7 `div` 2) `mod` 2\n",
    "(7 `div` 4) `mod` 2"
   ]
  },
  {
   "cell_type": "code",
   "execution_count": 110,
   "metadata": {},
   "outputs": [],
   "source": [
    "bit_place :: (Int, Int) -> Bit\n",
    "bit_place (num, place)\n",
    "    | place == 1 = to_bit(num `mod` 2)\n",
    "    | otherwise = to_bit((num `div` 2^(place-1)) `mod` 2)"
   ]
  },
  {
   "cell_type": "code",
   "execution_count": 111,
   "metadata": {
    "collapsed": true
   },
   "outputs": [],
   "source": [
    "to_bit :: Int -> Bit\n",
    "to_bit x = if x == 1 then One else Zero"
   ]
  },
  {
   "cell_type": "code",
   "execution_count": 112,
   "metadata": {},
   "outputs": [
    {
     "data": {
      "text/plain": [
       "One"
      ]
     },
     "metadata": {},
     "output_type": "display_data"
    }
   ],
   "source": [
    "bit_place(6, 2)"
   ]
  },
  {
   "cell_type": "code",
   "execution_count": 122,
   "metadata": {},
   "outputs": [],
   "source": [
    "-- sum of bits in the input where Zero is 0, and One is 1\n",
    "bitSum1 :: [Bit] -> Int\n",
    "bitSum1 bits = length $ filter (\\x -> x == One) bits"
   ]
  },
  {
   "cell_type": "code",
   "execution_count": 131,
   "metadata": {},
   "outputs": [],
   "source": [
    "-- sum of the maybe-bits in the input\n",
    "-- i.e. Just Zero is 0, Just One is 1, and Nothing is 0\n",
    "bitSum2 :: [Maybe Bit] -> Int\n",
    "bitSum2 [] = 0\n",
    "bitSum2 (x: xs) = if x == Just One then 1 + bitSum2(xs) else bitSum2(xs)\n",
    "\n"
   ]
  },
  {
   "cell_type": "code",
   "execution_count": 132,
   "metadata": {},
   "outputs": [
    {
     "data": {
      "text/plain": [
       "0"
      ]
     },
     "metadata": {},
     "output_type": "display_data"
    },
    {
     "data": {
      "text/plain": [
       "0"
      ]
     },
     "metadata": {},
     "output_type": "display_data"
    },
    {
     "data": {
      "text/plain": [
       "1"
      ]
     },
     "metadata": {},
     "output_type": "display_data"
    },
    {
     "data": {
      "text/plain": [
       "2"
      ]
     },
     "metadata": {},
     "output_type": "display_data"
    }
   ],
   "source": [
    "bitSum2 []\n",
    "bitSum2 [Nothing]\n",
    "bitSum2 [Nothing, Nothing, Just One]\n",
    "bitSum2 [Nothing, Nothing, Just One, Just Zero, Just One]"
   ]
  },
  {
   "cell_type": "code",
   "execution_count": 146,
   "metadata": {
    "collapsed": true
   },
   "outputs": [],
   "source": [
    "data List a = Empty | Cons a (List a)\n",
    "    deriving Show"
   ]
  },
  {
   "cell_type": "code",
   "execution_count": 220,
   "metadata": {},
   "outputs": [],
   "source": [
    "toList :: [a] -> List a\n",
    "toList [] = Empty\n",
    "toList (x: xs) = Cons x (toList(xs)) "
   ]
  },
  {
   "cell_type": "code",
   "execution_count": 261,
   "metadata": {},
   "outputs": [
    {
     "data": {
      "text/plain": [
       "Cons 4 (Cons 6 Empty)"
      ]
     },
     "metadata": {},
     "output_type": "display_data"
    }
   ],
   "source": [
    "removeAll isPrime (toList [2,3,4, 5, 6, 7])"
   ]
  },
  {
   "cell_type": "code",
   "execution_count": 216,
   "metadata": {},
   "outputs": [],
   "source": [
    "toHaskellList :: List a -> [a]\n",
    "toHaskellList Empty = []\n",
    "toHaskellList (Cons x xs) = x:(toHaskellList xs)"
   ]
  },
  {
   "cell_type": "code",
   "execution_count": 217,
   "metadata": {},
   "outputs": [
    {
     "data": {
      "text/plain": [
       "[]"
      ]
     },
     "metadata": {},
     "output_type": "display_data"
    },
    {
     "data": {
      "text/plain": [
       "\"apple\""
      ]
     },
     "metadata": {},
     "output_type": "display_data"
    }
   ],
   "source": [
    "toHaskellList Empty\n",
    "toHaskellList (Cons 'a' (Cons 'p' (Cons 'p' (Cons 'l' (Cons 'e' Empty)))))"
   ]
  },
  {
   "cell_type": "code",
   "execution_count": 345,
   "metadata": {},
   "outputs": [],
   "source": [
    "append :: List a -> List a -> List a\n",
    "append Empty Empty = Empty\n",
    "append as Empty = as\n",
    "append Empty bs = bs\n",
    "append (Cons a Empty) bs = Cons a bs\n",
    "append as bs = Cons (listHead as) (append (listTail as) bs)"
   ]
  },
  {
   "cell_type": "code",
   "execution_count": 254,
   "metadata": {},
   "outputs": [],
   "source": [
    "-- like filter\n",
    "removeAll :: (a -> Bool) -> List a -> List a\n",
    "removeAll f Empty = Empty\n",
    "removeAll f l = if not $ f $ listHead l then (Cons (listHead l) $ removeAll f (listTail l)) else removeAll f (listTail l)"
   ]
  },
  {
   "cell_type": "code",
   "execution_count": 262,
   "metadata": {
    "collapsed": true
   },
   "outputs": [],
   "source": []
  },
  {
   "cell_type": "code",
   "execution_count": 375,
   "metadata": {
    "collapsed": true
   },
   "outputs": [],
   "source": [
    "-- borrowed from https://gist.github.com/akoskovacs/5074344\n",
    "listHead :: List a -> a\n",
    "listHead (Cons a as) = a"
   ]
  },
  {
   "cell_type": "code",
   "execution_count": 376,
   "metadata": {
    "collapsed": true
   },
   "outputs": [],
   "source": [
    "-- borrowed from https://gist.github.com/akoskovacs/5074344\n",
    "listTail :: List a -> List a\n",
    "listTail Empty = Empty\n",
    "listTail (Cons a as) = as"
   ]
  },
  {
   "cell_type": "code",
   "execution_count": 334,
   "metadata": {},
   "outputs": [],
   "source": [
    "sort :: Ord a => List a -> List a \n",
    "sort Empty = Empty\n",
    "sort (Cons x Empty) = (Cons x Empty)\n",
    "sort (Cons x (Cons y Empty)) = if x < y then (Cons x (Cons y Empty)) else (Cons y (Cons x Empty))\n",
    "sort l = \n",
    "    let smallerSorted = removeAll (> (listHead l)) (listTail l)\n",
    "        biggerSorted = removeAll (< (listHead l)) (listTail l)\n",
    "    in append smallerSorted biggerSorted\n",
    "sort otherwise = undefined"
   ]
  },
  {
   "cell_type": "code",
   "execution_count": 377,
   "metadata": {},
   "outputs": [],
   "source": [
    "sort :: Ord a => List a -> List a \n",
    "sort Empty = Empty\n",
    "--sort (Cons x Empty) = (Cons x Empty)\n",
    "--sort (Cons x (Cons y Empty)) = if x < y then (Cons x (Cons y Empty)) else (Cons y (Cons x Empty))\n",
    "sort l = let lh = listHead l\n",
    "             lt = listTail l\n",
    "             sortedFirst = sort (removeAll (>= lh) lt)\n",
    "             sortedLast = sort (removeAll (< lh) lt)\n",
    "    in append sortedFirst (Cons lh sortedLast)\n",
    "sort otherwise = undefined"
   ]
  },
  {
   "cell_type": "code",
   "execution_count": 366,
   "metadata": {},
   "outputs": [
    {
     "data": {
      "text/plain": [
       "Cons 2 (Cons 3 Empty)"
      ]
     },
     "metadata": {},
     "output_type": "display_data"
    }
   ],
   "source": [
    "sort $ toList [3,2]"
   ]
  },
  {
   "cell_type": "code",
   "execution_count": 374,
   "metadata": {},
   "outputs": [
    {
     "data": {
      "text/plain": [
       "Cons 2 (Cons 3 (Cons 4 (Cons 5 (Cons 6 (Cons 7 Empty)))))"
      ]
     },
     "metadata": {},
     "output_type": "display_data"
    }
   ],
   "source": [
    "sort $ toList [ 6, 7,2,3,4, 5]"
   ]
  },
  {
   "cell_type": "code",
   "execution_count": 378,
   "metadata": {},
   "outputs": [
    {
     "data": {
      "text/plain": [
       "Cons 'a' (Cons 'e' (Cons 'l' (Cons 'p' (Cons 'p' Empty))))"
      ]
     },
     "metadata": {},
     "output_type": "display_data"
    }
   ],
   "source": [
    "sort  (Cons 'a' (Cons 'p' (Cons 'p' (Cons 'l' (Cons 'e' Empty)))))"
   ]
  },
  {
   "cell_type": "code",
   "execution_count": 307,
   "metadata": {},
   "outputs": [
    {
     "data": {
      "text/plain": [
       "Cons 2 (Cons 3 (Cons 4 Empty))"
      ]
     },
     "metadata": {},
     "output_type": "display_data"
    }
   ],
   "source": []
  },
  {
   "cell_type": "code",
   "execution_count": 308,
   "metadata": {},
   "outputs": [
    {
     "data": {
      "text/plain": [
       "Cons 5 (Cons 6 (Cons 7 Empty))"
      ]
     },
     "metadata": {},
     "output_type": "display_data"
    }
   ],
   "source": []
  },
  {
   "cell_type": "code",
   "execution_count": null,
   "metadata": {
    "collapsed": true
   },
   "outputs": [],
   "source": []
  }
 ],
 "metadata": {
  "kernelspec": {
   "display_name": "Haskell",
   "language": "haskell",
   "name": "haskell"
  },
  "language_info": {
   "codemirror_mode": "ihaskell",
   "file_extension": ".hs",
   "name": "haskell",
   "version": "8.0.2"
  }
 },
 "nbformat": 4,
 "nbformat_minor": 2
}
