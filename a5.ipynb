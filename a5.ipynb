{
 "cells": [
  {
   "cell_type": "code",
   "execution_count": 1,
   "metadata": {
    "collapsed": true
   },
   "outputs": [],
   "source": [
    "snoc :: a -> [a] -> [a]\n",
    "snoc x [] = [x]\n",
    "snoc x (y:ys) = y:snoc x ys \n"
   ]
  },
  {
   "cell_type": "code",
   "execution_count": 2,
   "metadata": {},
   "outputs": [
    {
     "data": {
      "text/plain": [
       "[1,2,3,5]"
      ]
     },
     "metadata": {},
     "output_type": "display_data"
    }
   ],
   "source": [
    "snoc 5 [1,2,3]"
   ]
  },
  {
   "cell_type": "code",
   "execution_count": 17,
   "metadata": {},
   "outputs": [],
   "source": [
    "myappend :: [a] -> [a] -> [a]\n",
    "myappend [] []     = []\n",
    "myappend [] lst2   = lst2\n",
    "myappend lst1 []   = lst1\n",
    "myappend lst1 (x:xs)= myappend (snoc x lst1) xs"
   ]
  },
  {
   "cell_type": "code",
   "execution_count": 24,
   "metadata": {},
   "outputs": [
    {
     "data": {
      "text/plain": [
       "[1,2,3,10,4,5,6]"
      ]
     },
     "metadata": {},
     "output_type": "display_data"
    }
   ],
   "source": [
    "myappend [1,2,3,10] [4,5,6]"
   ]
  },
  {
   "cell_type": "code",
   "execution_count": 47,
   "metadata": {},
   "outputs": [],
   "source": [
    "myreverse :: [a] -> [a]\n",
    "myreverse [] = []\n",
    "myreverse (x:xs) = snoc x (myreverse xs)"
   ]
  },
  {
   "cell_type": "code",
   "execution_count": 53,
   "metadata": {},
   "outputs": [
    {
     "data": {
      "text/plain": [
       "[10,9,8,7,6,5,4,3,2,1]"
      ]
     },
     "metadata": {},
     "output_type": "display_data"
    }
   ],
   "source": [
    "myreverse [1,2,3,4,5,6,7,8,9,10]"
   ]
  },
  {
   "cell_type": "code",
   "execution_count": 183,
   "metadata": {},
   "outputs": [],
   "source": [
    "--from http://www.cs.sfu.ca/CourseCentral/383/tjd/haskell_functions_lhs.html\n",
    "smallest_divisor :: Int -> Int\n",
    "smallest_divisor n\n",
    "    | n < 0     = error \"n must be >= 0\"\n",
    "    | n == 0    = 0\n",
    "    | n == 1    = 1\n",
    "    | otherwise = head (dropWhile (\\x -> n `mod` x /= 0) [2..n])\n",
    "\n",
    "--from http://www.cs.sfu.ca/CourseCentral/383/tjd/haskell_functions_lhs.html\n",
    "is_prime :: Int -> Bool\n",
    "is_prime n | n < 2     = False\n",
    "           | otherwise = (smallest_divisor n) == n\n",
    "           \n",
    "--from http://www.cs.sfu.ca/CourseCentral/383/tjd/haskell_functions_lhs.html\n",
    "primes_less_than :: Int -> [Int]\n",
    "primes_less_than n = filter is_prime [2..(n-1)]"
   ]
  },
  {
   "cell_type": "code",
   "execution_count": null,
   "metadata": {},
   "outputs": [],
   "source": []
  },
  {
   "cell_type": "code",
   "execution_count": 187,
   "metadata": {},
   "outputs": [],
   "source": [
    "--adapted https://stackoverflow.com/questions/19808224/haskell-reverse-integer-with-recursion\n",
    "reverseInt :: Int -> Int\n",
    "reverseInt 0 = 0\n",
    "reverseInt n = mod n 10 * 10^place + reverseInt (div n 10)\n",
    "  where\n",
    "    n' = fromIntegral n\n",
    "    place = (floor . logBase 10) n'"
   ]
  },
  {
   "cell_type": "code",
   "execution_count": null,
   "metadata": {},
   "outputs": [],
   "source": []
  },
  {
   "cell_type": "code",
   "execution_count": 188,
   "metadata": {},
   "outputs": [],
   "source": [
    "is_emirp :: Int -> Bool\n",
    "is_emirp n = is_prime (reverseInt n) && (n /= reverseInt n)"
   ]
  },
  {
   "cell_type": "code",
   "execution_count": 189,
   "metadata": {},
   "outputs": [
    {
     "data": {
      "text/plain": [
       "8"
      ]
     },
     "metadata": {},
     "output_type": "display_data"
    }
   ],
   "source": [
    "length (filter is_emirp (primes_less_than 100))"
   ]
  },
  {
   "cell_type": "code",
   "execution_count": null,
   "metadata": {},
   "outputs": [],
   "source": []
  },
  {
   "cell_type": "code",
   "execution_count": 190,
   "metadata": {},
   "outputs": [],
   "source": [
    "count_emirps :: Int -> Int\n",
    "count_emirps n \n",
    "        | n < 13 = 0\n",
    "        | n == 13 = 1\n",
    "        | otherwise = length (filter is_emirp (primes_less_than n))"
   ]
  },
  {
   "cell_type": "code",
   "execution_count": 192,
   "metadata": {},
   "outputs": [
    {
     "data": {
      "text/plain": [
       "36"
      ]
     },
     "metadata": {},
     "output_type": "display_data"
    }
   ],
   "source": [
    "count_emirps 1000"
   ]
  },
  {
   "cell_type": "code",
   "execution_count": null,
   "metadata": {
    "collapsed": true
   },
   "outputs": [],
   "source": []
  }
 ],
 "metadata": {
  "kernelspec": {
   "display_name": "Haskell",
   "language": "haskell",
   "name": "haskell"
  },
  "language_info": {
   "codemirror_mode": "ihaskell",
   "file_extension": ".hs",
   "name": "haskell",
   "version": "8.0.2"
  }
 },
 "nbformat": 4,
 "nbformat_minor": 2
}
